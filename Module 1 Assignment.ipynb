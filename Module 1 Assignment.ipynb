{
 "cells": [
  {
   "cell_type": "code",
   "execution_count": 5,
   "id": "b4eadc5a-07e2-48ff-9dbf-eb2d3e92d103",
   "metadata": {},
   "outputs": [],
   "source": [
    "sec_in_min = 60"
   ]
  },
  {
   "cell_type": "code",
   "execution_count": 7,
   "id": "e7787607-c768-401b-9992-69cbb20be438",
   "metadata": {},
   "outputs": [],
   "source": [
    "min_in_hour = 60"
   ]
  },
  {
   "cell_type": "code",
   "execution_count": 9,
   "id": "cc3cbc7b-5086-4769-8947-5e0c6313cbe1",
   "metadata": {},
   "outputs": [],
   "source": [
    "seconds_per_hour = sec_in_min * min_in_hour "
   ]
  },
  {
   "cell_type": "code",
   "execution_count": 11,
   "id": "c33b1ffd-e865-4d6b-af6b-f591098d8528",
   "metadata": {},
   "outputs": [],
   "source": [
    "seconds_per_day = 24 * seconds_per_hour"
   ]
  },
  {
   "cell_type": "code",
   "execution_count": 13,
   "id": "eac25783-8617-4e4f-a877-801984da6f56",
   "metadata": {},
   "outputs": [
    {
     "name": "stdout",
     "output_type": "stream",
     "text": [
      "24.0\n"
     ]
    }
   ],
   "source": [
    "print(seconds_per_day / seconds_per_hour)"
   ]
  },
  {
   "cell_type": "code",
   "execution_count": 15,
   "id": "a1b1f247-f3e9-4b2f-bb92-3e14a877e25d",
   "metadata": {},
   "outputs": [
    {
     "name": "stdout",
     "output_type": "stream",
     "text": [
      "24\n"
     ]
    }
   ],
   "source": [
    "print(seconds_per_day // seconds_per_hour)"
   ]
  },
  {
   "cell_type": "markdown",
   "id": "9fe18175-fb5d-4019-8407-b4e27e848be9",
   "metadata": {},
   "source": [
    "The numbers did agree."
   ]
  }
 ],
 "metadata": {
  "kernelspec": {
   "display_name": "Python 3 (ipykernel)",
   "language": "python",
   "name": "python3"
  },
  "language_info": {
   "codemirror_mode": {
    "name": "ipython",
    "version": 3
   },
   "file_extension": ".py",
   "mimetype": "text/x-python",
   "name": "python",
   "nbconvert_exporter": "python",
   "pygments_lexer": "ipython3",
   "version": "3.11.7"
  }
 },
 "nbformat": 4,
 "nbformat_minor": 5
}
