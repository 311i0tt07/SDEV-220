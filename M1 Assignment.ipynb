{
 "cells": [
  {
   "cell_type": "code",
   "execution_count": null,
   "id": "04a388e2-54de-47c1-a325-861a7ae5c8b0",
   "metadata": {},
   "outputs": [],
   "source": [
    "sec_in_min = 60\n",
    "min_in_hour = 60\n",
    "seconds_per_hour = sec_in_min * min_in_hour \n",
    "seconds_per_day = 12 * seconds_per_hour\n",
    "print(float(seconds_per_day / seconds_per_hour))\n",
    "print(int(seconds_per_day // seconds_per_hour))"
   ]
  },
  {
   "cell_type": "markdown",
   "id": "fc746483-37a3-41b6-89ab-9324d3fbebb4",
   "metadata": {},
   "source": [
    "The numbers did agree "
   ]
  }
 ],
 "metadata": {
  "kernelspec": {
   "display_name": "Python 3 (ipykernel)",
   "language": "python",
   "name": "python3"
  },
  "language_info": {
   "codemirror_mode": {
    "name": "ipython",
    "version": 3
   },
   "file_extension": ".py",
   "mimetype": "text/x-python",
   "name": "python",
   "nbconvert_exporter": "python",
   "pygments_lexer": "ipython3",
   "version": "3.11.7"
  }
 },
 "nbformat": 4,
 "nbformat_minor": 5
}
