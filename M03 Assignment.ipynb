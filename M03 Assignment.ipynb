{
 "cells": [
  {
   "cell_type": "markdown",
   "id": "fd4d5ced-95ed-4397-8ada-f94d7e60c04e",
   "metadata": {},
   "source": [
    "7.4"
   ]
  },
  {
   "cell_type": "code",
   "execution_count": 1,
   "id": "dc6b50cd-cd57-4708-8cd9-87ad16c98e08",
   "metadata": {},
   "outputs": [],
   "source": [
    "import random\n",
    "\n",
    "things = [\"mozzarella\", \"cinderella\", \"salmonella\"]"
   ]
  },
  {
   "cell_type": "markdown",
   "id": "25d68f24-9c45-4644-bc01-2c7c006f8a97",
   "metadata": {},
   "source": [
    "7.5"
   ]
  },
  {
   "cell_type": "code",
   "execution_count": 4,
   "id": "e65694be-d0b5-4786-8305-2ebf7b1f66c0",
   "metadata": {},
   "outputs": [
    {
     "name": "stdout",
     "output_type": "stream",
     "text": [
      "['mozzarella', 'Cinderella', 'salmonella']\n"
     ]
    }
   ],
   "source": [
    "things[1] = things[1].capitalize()\n",
    "print(things)"
   ]
  },
  {
   "cell_type": "markdown",
   "id": "c8cb2f57-e3a0-47e0-ac99-2d9d3603b13e",
   "metadata": {},
   "source": [
    "7.6"
   ]
  },
  {
   "cell_type": "code",
   "execution_count": 7,
   "id": "5ad680b9-1849-4f57-aeef-beb049da2309",
   "metadata": {},
   "outputs": [
    {
     "name": "stdout",
     "output_type": "stream",
     "text": [
      "['MOZZARELLA', 'Cinderella', 'salmonella']\n"
     ]
    }
   ],
   "source": [
    "things[0] = things[0].upper()\n",
    "print(things)"
   ]
  },
  {
   "cell_type": "markdown",
   "id": "d0f04ac7-dcd7-49b4-b6d4-c986409b6ca0",
   "metadata": {},
   "source": [
    "7.7"
   ]
  },
  {
   "cell_type": "code",
   "execution_count": 10,
   "id": "a7777fec-ffb9-48f3-bfcb-011b14cd28a1",
   "metadata": {},
   "outputs": [
    {
     "name": "stdout",
     "output_type": "stream",
     "text": [
      "['MOZZARELLA', 'Cinderella']\n"
     ]
    }
   ],
   "source": [
    "things.pop(2)\n",
    "print(things)"
   ]
  },
  {
   "cell_type": "markdown",
   "id": "ad83d084-b3a4-43e8-baa9-7622d092f31c",
   "metadata": {},
   "source": [
    "9.1"
   ]
  },
  {
   "cell_type": "code",
   "execution_count": 13,
   "id": "8e20216f-5104-469b-bf57-0f898ab19332",
   "metadata": {},
   "outputs": [],
   "source": [
    "def good():\n",
    "    return ['Harry', \"Ron\", \"Hermione\"]"
   ]
  },
  {
   "cell_type": "markdown",
   "id": "f8a48867-4c67-4f8e-a00f-ac025dcb2baa",
   "metadata": {},
   "source": [
    "9.2"
   ]
  },
  {
   "cell_type": "code",
   "execution_count": 16,
   "id": "ccaa273a-b442-406b-b987-fbecf4a1bc57",
   "metadata": {},
   "outputs": [
    {
     "name": "stdout",
     "output_type": "stream",
     "text": [
      "5\n"
     ]
    }
   ],
   "source": [
    "def get_odds(max_range):\n",
    "    for i in range(max_range):\n",
    "        if i % 2 != 0:\n",
    "            yield i\n",
    "\n",
    "iterator = 0\n",
    "for num in get_odds(10):\n",
    "    if iterator == 2:\n",
    "        print(num)\n",
    "    iterator += 1"
   ]
  },
  {
   "cell_type": "code",
   "execution_count": null,
   "id": "9e1d97f6-8b84-441d-9ce3-8931e4256652",
   "metadata": {},
   "outputs": [],
   "source": []
  }
 ],
 "metadata": {
  "kernelspec": {
   "display_name": "Python 3 (ipykernel)",
   "language": "python",
   "name": "python3"
  },
  "language_info": {
   "codemirror_mode": {
    "name": "ipython",
    "version": 3
   },
   "file_extension": ".py",
   "mimetype": "text/x-python",
   "name": "python",
   "nbconvert_exporter": "python",
   "pygments_lexer": "ipython3",
   "version": "3.11.7"
  }
 },
 "nbformat": 4,
 "nbformat_minor": 5
}
