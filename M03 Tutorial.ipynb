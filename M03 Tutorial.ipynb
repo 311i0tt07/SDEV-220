{
 "cells": [
  {
   "cell_type": "markdown",
   "id": "70a0f2d9-4846-44c7-80e9-a33ae49c0224",
   "metadata": {},
   "source": [
    "Sort an array of 0s, 1s, and 2s"
   ]
  },
  {
   "cell_type": "code",
   "execution_count": 35,
   "id": "9875ce32-294a-405e-b65a-ec87dfe784c5",
   "metadata": {},
   "outputs": [
    {
     "name": "stdout",
     "output_type": "stream",
     "text": [
      "[1, 0, 1, 2]\n"
     ]
    }
   ],
   "source": [
    "class Solution:\n",
    "    def sort012(arr, N):\n",
    "        low = 0\n",
    "        mid = 0\n",
    "        high = N - 1\n",
    "        \n",
    "        while mid <= high:\n",
    "            if arr[mid] == 0:\n",
    "                arr[low], arr[mid] = arr[mid], arr[low]\n",
    "                low += 1\n",
    "                mid += 1\n",
    "            elif arr[mid] == 1:\n",
    "                mid += 1\n",
    "            else: \n",
    "                arr[high], arr[mid] = arr[mid], arr[high]\n",
    "                high -= 1\n",
    "            return arr\n",
    "arr = [1, 0, 1, 2]\n",
    "arr = Solution.sort012(arr , 4)\n",
    "print(arr)"
   ]
  },
  {
   "cell_type": "markdown",
   "id": "0dee0ef3-4749-48a9-a3ac-ddcfc7c1d7c0",
   "metadata": {},
   "source": [
    "Binary Search"
   ]
  },
  {
   "cell_type": "code",
   "execution_count": 49,
   "id": "8efb78f3-cb18-4a0b-a7cf-9dee12bc244e",
   "metadata": {},
   "outputs": [
    {
     "name": "stdout",
     "output_type": "stream",
     "text": [
      "-1\n"
     ]
    }
   ],
   "source": [
    "class Solution:\n",
    "    def binarysearch(arr, N, x):\n",
    "        left = 0\n",
    "        right = N - 1\n",
    "        \n",
    "        while left <= right:\n",
    "            mid = left + (right - left) // 2\n",
    "            if arr[mid] == x:\n",
    "                return mid\n",
    "            elif arr[mid] < x:\n",
    "                left = mid + 1\n",
    "            else:\n",
    "                right = mid - 1\n",
    "        return -1\n",
    "arr = [0, 54, 6, 100, 7, 80]\n",
    "print(Solution.binarysearch(arr, len(arr) - 1, 1))"
   ]
  },
  {
   "cell_type": "code",
   "execution_count": null,
   "id": "8108bd3e-333b-4ac6-845c-9655737c1356",
   "metadata": {},
   "outputs": [],
   "source": []
  }
 ],
 "metadata": {
  "kernelspec": {
   "display_name": "Python 3 (ipykernel)",
   "language": "python",
   "name": "python3"
  },
  "language_info": {
   "codemirror_mode": {
    "name": "ipython",
    "version": 3
   },
   "file_extension": ".py",
   "mimetype": "text/x-python",
   "name": "python",
   "nbconvert_exporter": "python",
   "pygments_lexer": "ipython3",
   "version": "3.11.7"
  }
 },
 "nbformat": 4,
 "nbformat_minor": 5
}
